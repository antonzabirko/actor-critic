{
 "cells": [
  {
   "cell_type": "code",
   "execution_count": 11,
   "metadata": {
    "collapsed": true,
    "pycharm": {
     "is_executing": false
    }
   },
   "outputs": [
    {
     "name": "stdout",
     "text": [
      "[-0.03907112 -0.02852971 -0.03383111  0.0261077 ]\n",
      "1.0\n",
      "[-0.03964171  0.16706066 -0.03330896 -0.27705442]\n",
      "1.0\n",
      "[-0.0363005   0.36264159 -0.03885005 -0.58005411]\n",
      "1.0\n",
      "[-0.02904767  0.16808497 -0.05045113 -0.29985843]\n",
      "1.0\n",
      "[-0.02568597 -0.02628292 -0.0564483  -0.02350391]\n",
      "1.0\n",
      "[-0.02621163  0.16960121 -0.05691837 -0.33344909]\n",
      "1.0\n",
      "[-0.0228196   0.36548514 -0.06358736 -0.64352412]\n",
      "1.0\n",
      "[-0.0155099   0.561433   -0.07645784 -0.95553399]\n",
      "1.0\n",
      "[-0.00428124  0.75749546 -0.09556852 -1.2712252 ]\n",
      "1.0\n",
      "[ 0.01086867  0.56371444 -0.12099302 -1.00993445]\n",
      "1.0\n",
      "[ 0.02214296  0.37039678 -0.14119171 -0.75756312]\n",
      "1.0\n",
      "[ 0.02955089  0.56715293 -0.15634297 -1.09113305]\n",
      "1.0\n",
      "[ 0.04089395  0.76395073 -0.17816563 -1.42850714]\n",
      "1.0\n",
      "[ 0.05617297  0.57141985 -0.20673578 -1.19638635]\n",
      "1.0\n",
      "Episode finished after 14 timesteps\n"
     ],
     "output_type": "stream"
    }
   ],
   "source": [
    "# IMPORTS\n",
    "import gym\n",
    "import tensorflow\n",
    "\n",
    "from tensorflow import keras\n",
    "\n",
    "import ActorCritic as agent\n",
    "\n",
    "#\n",
    "\n",
    "env = gym.make('CartPole-v0')\n",
    "env.reset()\n",
    "for i_episode in range(1):\n",
    "    observation = env.reset()\n",
    "    for t in range(100):\n",
    "        env.render()\n",
    "        print(observation)\n",
    "        action = env.action_space.sample()\n",
    "        observation, reward, done, info = env.step(action)\n",
    "        print(reward)\n",
    "        if done:\n",
    "            print(\"Episode finished after {} timesteps\".format(t+1))\n",
    "            break\n",
    "env.close()\n"
   ]
  }
 ],
 "metadata": {
  "kernelspec": {
   "display_name": "Python 3",
   "language": "python",
   "name": "python3"
  },
  "language_info": {
   "codemirror_mode": {
    "name": "ipython",
    "version": 2
   },
   "file_extension": ".py",
   "mimetype": "text/x-python",
   "name": "python",
   "nbconvert_exporter": "python",
   "pygments_lexer": "ipython2",
   "version": "2.7.6"
  },
  "pycharm": {
   "stem_cell": {
    "cell_type": "raw",
    "source": [],
    "metadata": {
     "collapsed": false
    }
   }
  }
 },
 "nbformat": 4,
 "nbformat_minor": 0
}